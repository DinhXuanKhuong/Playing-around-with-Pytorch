{
 "cells": [
  {
   "cell_type": "code",
   "execution_count": 2,
   "id": "c913c359",
   "metadata": {},
   "outputs": [],
   "source": [
    "import torch"
   ]
  },
  {
   "cell_type": "code",
   "execution_count": 5,
   "id": "26f462a1",
   "metadata": {},
   "outputs": [],
   "source": [
    "x1 = torch.tensor(-1. , requires_grad = True)\n",
    "x2 = torch.tensor(-2. , requires_grad = True)\n",
    "w0 = torch.tensor(-3. , requires_grad = True)\n",
    "w1 = torch.tensor(2. , requires_grad = True)\n",
    "w2 = torch.tensor(-3. , requires_grad = True)\n",
    "\n"
   ]
  },
  {
   "cell_type": "code",
   "execution_count": 10,
   "id": "619e72d8",
   "metadata": {},
   "outputs": [],
   "source": [
    "a = w1 * x1\n",
    "# a.requires_grad = True\n",
    "b = w2 * x2 \n",
    "# b.requires_grad = True\n",
    "c = a + b + w0\n",
    "# c.requires_grad = True\n",
    "f = torch.sigmoid(c)\n",
    "# f.requires_grad = True\n",
    "f.backward()"
   ]
  },
  {
   "cell_type": "code",
   "execution_count": 11,
   "id": "44b0091c",
   "metadata": {},
   "outputs": [
    {
     "name": "stdout",
     "output_type": "stream",
     "text": [
      "tensor(0.3932)\n"
     ]
    }
   ],
   "source": [
    "print(x1.grad)"
   ]
  }
 ],
 "metadata": {
  "kernelspec": {
   "display_name": "torch",
   "language": "python",
   "name": "python3"
  },
  "language_info": {
   "codemirror_mode": {
    "name": "ipython",
    "version": 3
   },
   "file_extension": ".py",
   "mimetype": "text/x-python",
   "name": "python",
   "nbconvert_exporter": "python",
   "pygments_lexer": "ipython3",
   "version": "3.10.18"
  }
 },
 "nbformat": 4,
 "nbformat_minor": 5
}
