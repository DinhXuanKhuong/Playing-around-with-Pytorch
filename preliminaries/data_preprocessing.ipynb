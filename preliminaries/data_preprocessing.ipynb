{
 "cells": [
  {
   "cell_type": "markdown",
   "id": "41f563ae",
   "metadata": {},
   "source": [
    "## Data Prerocessing"
   ]
  },
  {
   "cell_type": "markdown",
   "id": "9d4e127d",
   "metadata": {},
   "source": [
    "### Reading the dataset"
   ]
  },
  {
   "cell_type": "markdown",
   "id": "edb60bc9",
   "metadata": {},
   "source": [
    "Comma-separated values (CSV) files are ubiquitous for the storing of\n",
    "tabular (spreadsheet-like) data. In them, each line corresponds to one\n",
    "record and consists of several (comma-separated) fields, e.g., \"Albert\n",
    "Einstein,March 14 1879,Ulm,Federal polytechnic school,field of\n",
    "gravitational physics\". To demonstrate how to load CSV files with\n",
    "``pandas``, we create a CSV file below ``../data/house_tiny.csv``. This\n",
    "file represents a dataset of homes, where each row corresponds to a\n",
    "distinct home and the columns correspond to the number of rooms\n",
    "(``NumRooms``), the roof type (``RoofType``), and the price (``Price``)"
   ]
  },
  {
   "cell_type": "code",
   "execution_count": 3,
   "id": "ee1e4027",
   "metadata": {},
   "outputs": [],
   "source": [
    "import os\n",
    "\n",
    "os.makedirs(os.path.join(\"..\", \"data\"), exist_ok = True)\n",
    "data_file = os.path.join(\"..\", \"data\", \"house_tiny.csv\")\n",
    "with open(data_file, \"w\") as f:\n",
    "    f.write('''NumRooms,RoofType,Price\n",
    "NA,NA,127500\n",
    "2,NA,106000\n",
    "4,Slate,178100\n",
    "NA,NA,140000''')\n"
   ]
  },
  {
   "cell_type": "code",
   "execution_count": 4,
   "id": "9f397f76",
   "metadata": {},
   "outputs": [
    {
     "data": {
      "text/html": [
       "<div>\n",
       "<style scoped>\n",
       "    .dataframe tbody tr th:only-of-type {\n",
       "        vertical-align: middle;\n",
       "    }\n",
       "\n",
       "    .dataframe tbody tr th {\n",
       "        vertical-align: top;\n",
       "    }\n",
       "\n",
       "    .dataframe thead th {\n",
       "        text-align: right;\n",
       "    }\n",
       "</style>\n",
       "<table border=\"1\" class=\"dataframe\">\n",
       "  <thead>\n",
       "    <tr style=\"text-align: right;\">\n",
       "      <th></th>\n",
       "      <th>NumRooms</th>\n",
       "      <th>RoofType</th>\n",
       "      <th>Price</th>\n",
       "    </tr>\n",
       "  </thead>\n",
       "  <tbody>\n",
       "    <tr>\n",
       "      <th>0</th>\n",
       "      <td>NaN</td>\n",
       "      <td>NaN</td>\n",
       "      <td>127500</td>\n",
       "    </tr>\n",
       "    <tr>\n",
       "      <th>1</th>\n",
       "      <td>2.0</td>\n",
       "      <td>NaN</td>\n",
       "      <td>106000</td>\n",
       "    </tr>\n",
       "    <tr>\n",
       "      <th>2</th>\n",
       "      <td>4.0</td>\n",
       "      <td>Slate</td>\n",
       "      <td>178100</td>\n",
       "    </tr>\n",
       "    <tr>\n",
       "      <th>3</th>\n",
       "      <td>NaN</td>\n",
       "      <td>NaN</td>\n",
       "      <td>140000</td>\n",
       "    </tr>\n",
       "  </tbody>\n",
       "</table>\n",
       "</div>"
      ],
      "text/plain": [
       "   NumRooms RoofType   Price\n",
       "0       NaN      NaN  127500\n",
       "1       2.0      NaN  106000\n",
       "2       4.0    Slate  178100\n",
       "3       NaN      NaN  140000"
      ]
     },
     "execution_count": 4,
     "metadata": {},
     "output_type": "execute_result"
    }
   ],
   "source": [
    "import pandas as pd \n",
    "data = pd.read_csv(data_file)\n",
    "data"
   ]
  },
  {
   "cell_type": "markdown",
   "id": "4e51062a",
   "metadata": {},
   "source": [
    "### Data Preparation"
   ]
  },
  {
   "cell_type": "markdown",
   "id": "f1f7dd16",
   "metadata": {},
   "source": [
    "\n",
    "In supervised learning, we train models to predict a designated *target*\n",
    "value, given some set of *input* values. Our first step in processing\n",
    "the dataset is to separate out columns corresponding to input versus\n",
    "target values. We can select columns either by name or via\n",
    "integer-location based indexing (``iloc``).\n",
    "\n",
    "You might have noticed that ``pandas`` replaced all CSV entries with\n",
    "value ``NA`` with a special ``NaN`` (*not a number*) value. This can\n",
    "also happen whenever an entry is empty, e.g., \"œ3,,,270000\". These are\n",
    "called *missing values* and they are the \"bed bugs\" of data science, a\n",
    "persistent menace that you will confront throughout your career.\n",
    "Depending upon the context, missing values might be handled either via\n",
    "*imputation* or *deletion*. Imputation replaces missing values with\n",
    "estimates of their values while deletion simply discards either those\n",
    "rows or those columns that contain missing values.\n",
    "\n",
    "Here are some common imputation heuristics. For categorical input\n",
    "fields, we can treat ``NaN`` as a category. Since the ``RoofType``\n",
    "column takes values ``Slate`` and ``NaN``, ``pandas`` can convert this\n",
    "column into two columns ``RoofType_Slate`` and ``RoofType_nan``. A row\n",
    "whose roof type is ``Slate`` will set values of ``RoofType_Slate`` and\n",
    "``RoofType_nan`` to 1 and 0, respectively. The converse holds for a row\n",
    "with a missing ``RoofType`` value.\n"
   ]
  },
  {
   "cell_type": "code",
   "execution_count": null,
   "id": "bc118581",
   "metadata": {},
   "outputs": [
    {
     "data": {
      "text/html": [
       "<div>\n",
       "<style scoped>\n",
       "    .dataframe tbody tr th:only-of-type {\n",
       "        vertical-align: middle;\n",
       "    }\n",
       "\n",
       "    .dataframe tbody tr th {\n",
       "        vertical-align: top;\n",
       "    }\n",
       "\n",
       "    .dataframe thead th {\n",
       "        text-align: right;\n",
       "    }\n",
       "</style>\n",
       "<table border=\"1\" class=\"dataframe\">\n",
       "  <thead>\n",
       "    <tr style=\"text-align: right;\">\n",
       "      <th></th>\n",
       "      <th>NumRooms</th>\n",
       "      <th>RoofType</th>\n",
       "    </tr>\n",
       "  </thead>\n",
       "  <tbody>\n",
       "    <tr>\n",
       "      <th>0</th>\n",
       "      <td>NaN</td>\n",
       "      <td>NaN</td>\n",
       "    </tr>\n",
       "    <tr>\n",
       "      <th>1</th>\n",
       "      <td>2.0</td>\n",
       "      <td>NaN</td>\n",
       "    </tr>\n",
       "    <tr>\n",
       "      <th>2</th>\n",
       "      <td>4.0</td>\n",
       "      <td>Slate</td>\n",
       "    </tr>\n",
       "    <tr>\n",
       "      <th>3</th>\n",
       "      <td>NaN</td>\n",
       "      <td>NaN</td>\n",
       "    </tr>\n",
       "  </tbody>\n",
       "</table>\n",
       "</div>"
      ],
      "text/plain": [
       "   NumRooms RoofType\n",
       "0       NaN      NaN\n",
       "1       2.0      NaN\n",
       "2       4.0    Slate\n",
       "3       NaN      NaN"
      ]
     },
     "execution_count": 6,
     "metadata": {},
     "output_type": "execute_result"
    }
   ],
   "source": [
    "inputs, targets = data.iloc[:, 0: 1+1], data.iloc[:, 2] #take input and target(the output) using slicing and iloc\n",
    "inputs"
   ]
  },
  {
   "cell_type": "code",
   "execution_count": 7,
   "id": "8a047ea4",
   "metadata": {},
   "outputs": [
    {
     "data": {
      "text/plain": [
       "0    127500\n",
       "1    106000\n",
       "2    178100\n",
       "3    140000\n",
       "Name: Price, dtype: int64"
      ]
     },
     "execution_count": 7,
     "metadata": {},
     "output_type": "execute_result"
    }
   ],
   "source": [
    "targets"
   ]
  },
  {
   "cell_type": "code",
   "execution_count": 8,
   "id": "2dafb129",
   "metadata": {},
   "outputs": [
    {
     "data": {
      "text/html": [
       "<div>\n",
       "<style scoped>\n",
       "    .dataframe tbody tr th:only-of-type {\n",
       "        vertical-align: middle;\n",
       "    }\n",
       "\n",
       "    .dataframe tbody tr th {\n",
       "        vertical-align: top;\n",
       "    }\n",
       "\n",
       "    .dataframe thead th {\n",
       "        text-align: right;\n",
       "    }\n",
       "</style>\n",
       "<table border=\"1\" class=\"dataframe\">\n",
       "  <thead>\n",
       "    <tr style=\"text-align: right;\">\n",
       "      <th></th>\n",
       "      <th>NumRooms</th>\n",
       "      <th>RoofType_Slate</th>\n",
       "      <th>RoofType_nan</th>\n",
       "    </tr>\n",
       "  </thead>\n",
       "  <tbody>\n",
       "    <tr>\n",
       "      <th>0</th>\n",
       "      <td>NaN</td>\n",
       "      <td>False</td>\n",
       "      <td>True</td>\n",
       "    </tr>\n",
       "    <tr>\n",
       "      <th>1</th>\n",
       "      <td>2.0</td>\n",
       "      <td>False</td>\n",
       "      <td>True</td>\n",
       "    </tr>\n",
       "    <tr>\n",
       "      <th>2</th>\n",
       "      <td>4.0</td>\n",
       "      <td>True</td>\n",
       "      <td>False</td>\n",
       "    </tr>\n",
       "    <tr>\n",
       "      <th>3</th>\n",
       "      <td>NaN</td>\n",
       "      <td>False</td>\n",
       "      <td>True</td>\n",
       "    </tr>\n",
       "  </tbody>\n",
       "</table>\n",
       "</div>"
      ],
      "text/plain": [
       "   NumRooms  RoofType_Slate  RoofType_nan\n",
       "0       NaN           False          True\n",
       "1       2.0           False          True\n",
       "2       4.0            True         False\n",
       "3       NaN           False          True"
      ]
     },
     "execution_count": 8,
     "metadata": {},
     "output_type": "execute_result"
    }
   ],
   "source": [
    "inputs = pd.get_dummies(inputs, dummy_na= True)\n",
    "inputs"
   ]
  },
  {
   "cell_type": "markdown",
   "id": "15be0af5",
   "metadata": {},
   "source": [
    "### get_dummies()\n",
    "Convert categorical variable into dummy/indicator variables.\n",
    "```bash\n",
    "pandas.get_dummies(data, prefix=None, prefix_sep='_', dummy_na=False, columns=None, sparse=False, drop_first=False, dtype=None)\n",
    "```\n",
    "Each variable is converted in as many 0/1 variables as there are different values. Columns in the output are each named after a value; if the input is a DataFrame, the name of the original variable is prepended to the value.\n",
    "\n",
    "#### Parameters\n",
    "\n",
    "- **data** : array-like, Series, or DataFrame  \n",
    "  Data of which to get dummy indicators.\n",
    "\n",
    "- **prefix** : str, list of str, or dict of str, default `None`  \n",
    "  String to append DataFrame column names.  \n",
    "  - Pass a list with length equal to the number of columns when calling `get_dummies` on a DataFrame.  \n",
    "  - Alternatively, `prefix` can be a dictionary mapping column names to prefixes.\n",
    "\n",
    "- **prefix_sep** : str, default `'_'`  \n",
    "  Separator/delimiter to use when appending prefix.  \n",
    "  - Can also pass a list or dictionary as with `prefix`.\n",
    "\n",
    "- **dummy_na** : bool, default `False`  \n",
    "  - If `True`, add a column to indicate NaNs.  \n",
    "  - If `False`, NaNs are ignored.\n",
    "\n",
    "- **columns** : list-like, default `None`  \n",
    "  Column names in the DataFrame to be encoded.  \n",
    "  - If `None`, then all the columns with object, string, or category dtype will be converted.\n",
    "\n",
    "- **sparse** : bool, default `False`  \n",
    "  Whether the dummy-encoded columns should be backed by a `SparseArray` (`True`) or a regular NumPy array (`False`).\n",
    "\n",
    "- **drop_first** : bool, default `False`  \n",
    "  Whether to get `k-1` dummies out of `k` categorical levels by removing the first level.\n",
    "\n",
    "- **dtype** : dtype, default `bool`  \n",
    "  Data type for new columns. Only a single dtype is allowed.\n",
    "\n",
    "---\n",
    "\n",
    "#### Returns\n",
    "\n",
    "- **DataFrame**  \n",
    "  Dummy-coded data.  \n",
    "  - If `data` contains other columns than the dummy-coded one(s), these will be prepended, unaltered, to the result.\n"
   ]
  }
 ],
 "metadata": {
  "kernelspec": {
   "display_name": "Python 3",
   "language": "python",
   "name": "python3"
  },
  "language_info": {
   "codemirror_mode": {
    "name": "ipython",
    "version": 3
   },
   "file_extension": ".py",
   "mimetype": "text/x-python",
   "name": "python",
   "nbconvert_exporter": "python",
   "pygments_lexer": "ipython3",
   "version": "3.10.9"
  }
 },
 "nbformat": 4,
 "nbformat_minor": 5
}
