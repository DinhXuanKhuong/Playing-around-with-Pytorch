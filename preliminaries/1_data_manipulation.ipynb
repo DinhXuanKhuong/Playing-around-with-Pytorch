{
 "cells": [
  {
   "cell_type": "markdown",
   "id": "cfb0f2d3",
   "metadata": {},
   "source": [
    "### Import library"
   ]
  },
  {
   "cell_type": "code",
   "execution_count": 23,
   "id": "99d2d20c",
   "metadata": {},
   "outputs": [],
   "source": [
    "import torch"
   ]
  },
  {
   "cell_type": "markdown",
   "id": "4a3a6af0",
   "metadata": {},
   "source": [
    "### Getting Started"
   ]
  },
  {
   "cell_type": "markdown",
   "id": "3e6672bb",
   "metadata": {},
   "source": [
    "A tensor represents a (possibly multidimensional) array of numerical values. \n",
    "- In the one-dimensional case, i.e., when only one axis is needed for the data, a tensor is called a vector.\n",
    "- With two axes, a tensor is called a matrix. with `k > 2` axes, we drop the specialized names and just refer to the object as a $k^{th}$ - order tensor."
   ]
  },
  {
   "cell_type": "markdown",
   "id": "bf478013",
   "metadata": {},
   "source": [
    "PyTorch provides a variety of functions for creating new tensors prepopulated with values. For example, by invoking `arange(n)`, we can create a vector of evenly spaced values, starting at 0 (included) and ending at **n** (not included). By default, the interval size is \n",
    ". Unless otherwise specified, new tensors are stored in main memory and designated for CPU-based computation."
   ]
  },
  {
   "cell_type": "code",
   "execution_count": 24,
   "id": "64703695",
   "metadata": {},
   "outputs": [
    {
     "data": {
      "text/plain": [
       "tensor([ 0,  1,  2,  3,  4,  5,  6,  7,  8,  9, 10, 11])"
      ]
     },
     "execution_count": 24,
     "metadata": {},
     "output_type": "execute_result"
    }
   ],
   "source": [
    "x = torch.arange(12)\n",
    "x"
   ]
  },
  {
   "cell_type": "code",
   "execution_count": 25,
   "id": "f1396fdc",
   "metadata": {},
   "outputs": [
    {
     "data": {
      "text/plain": [
       "tensor([0., 1., 2., 3., 4., 5., 6., 7., 8., 9.])"
      ]
     },
     "execution_count": 25,
     "metadata": {},
     "output_type": "execute_result"
    }
   ],
   "source": [
    "y = torch.arange(10, dtype=torch.float32)\n",
    "y"
   ]
  },
  {
   "cell_type": "markdown",
   "id": "148db8e5",
   "metadata": {},
   "source": [
    "Each of these values is called an **element** of the tensor. The tensor x contains 12 elements. We cant inspect the total number of elements in a tensor via its `numel` method."
   ]
  },
  {
   "cell_type": "code",
   "execution_count": 26,
   "id": "b266f17c",
   "metadata": {},
   "outputs": [
    {
     "name": "stdout",
     "output_type": "stream",
     "text": [
      "12\n",
      "Number of elements of y is:  10\n"
     ]
    }
   ],
   "source": [
    "print(x.numel())\n",
    "print(\"Number of elements of y is: \",y.numel())"
   ]
  },
  {
   "cell_type": "markdown",
   "id": "8c70a9a4",
   "metadata": {},
   "source": [
    "We can access a tensor’s shape (the length along each axis) by inspecting its shape attribute. Because we are dealing with a vector here, the shape contains just a single element and is identical to the size."
   ]
  },
  {
   "cell_type": "code",
   "execution_count": 27,
   "id": "25aed944",
   "metadata": {},
   "outputs": [
    {
     "data": {
      "text/plain": [
       "torch.Size([12])"
      ]
     },
     "execution_count": 27,
     "metadata": {},
     "output_type": "execute_result"
    }
   ],
   "source": [
    "x.shape"
   ]
  },
  {
   "cell_type": "markdown",
   "id": "da3ac7b5",
   "metadata": {},
   "source": [
    "We can change the shape of a tensor without altering its size or values, by invoking reshape. For example, we can transform our vector x whose shape is (12,) to a matrix X with shape (3, 4). This new tensor retains all elements but reconfigures them into a matrix. Notice that the elements of our vector are laid out one row at a time and thus x[3] == X[0, 3]."
   ]
  },
  {
   "cell_type": "code",
   "execution_count": 28,
   "id": "9d44e680",
   "metadata": {},
   "outputs": [
    {
     "data": {
      "text/plain": [
       "tensor([[ 0,  1,  2,  3],\n",
       "        [ 4,  5,  6,  7],\n",
       "        [ 8,  9, 10, 11]])"
      ]
     },
     "execution_count": 28,
     "metadata": {},
     "output_type": "execute_result"
    }
   ],
   "source": [
    "X = x.reshape(3, 4)\n",
    "X"
   ]
  },
  {
   "cell_type": "code",
   "execution_count": 29,
   "id": "cc3cad74",
   "metadata": {},
   "outputs": [
    {
     "data": {
      "text/plain": [
       "12"
      ]
     },
     "execution_count": 29,
     "metadata": {},
     "output_type": "execute_result"
    }
   ],
   "source": [
    "X.numel()"
   ]
  },
  {
   "cell_type": "markdown",
   "id": "052f6cf6",
   "metadata": {},
   "source": [
    "Note that specifying every shape component to reshape is redundant. Because we already know our tensor’s size, we can work out one component of the shape given the rest. For example, given a tensor of size $n$\n",
    " and target shape $(h,w)$, we know that $w = n/h$. To automatically infer one component of the shape, we can place a **-1** for the shape component that should be inferred automatically. In our case, instead of calling x.reshape(3, 4), we could have equivalently called `x.reshape(-1, 4)` or `x.reshape(3, -1)`."
   ]
  },
  {
   "cell_type": "code",
   "execution_count": 14,
   "id": "58e72a56",
   "metadata": {},
   "outputs": [
    {
     "data": {
      "text/plain": [
       "tensor([[0., 1., 2., 3., 4.],\n",
       "        [5., 6., 7., 8., 9.]])"
      ]
     },
     "execution_count": 14,
     "metadata": {},
     "output_type": "execute_result"
    }
   ],
   "source": [
    "Y = y.reshape(-1,5)\n",
    "Y"
   ]
  },
  {
   "cell_type": "markdown",
   "id": "c45fedcb",
   "metadata": {},
   "source": [
    "Practitioners often need to work with tensors initialized to contain all 0s or 1s. We can construct a tensor with all elements set to 0 and a shape of (2, 3, 4) via the zeros function."
   ]
  },
  {
   "cell_type": "code",
   "execution_count": 30,
   "id": "1b658f93",
   "metadata": {},
   "outputs": [
    {
     "data": {
      "text/plain": [
       "tensor([[[0., 0., 0., 0.],\n",
       "         [0., 0., 0., 0.],\n",
       "         [0., 0., 0., 0.]],\n",
       "\n",
       "        [[0., 0., 0., 0.],\n",
       "         [0., 0., 0., 0.],\n",
       "         [0., 0., 0., 0.]]])"
      ]
     },
     "execution_count": 30,
     "metadata": {},
     "output_type": "execute_result"
    }
   ],
   "source": [
    "torch.zeros(2,3,4)"
   ]
  },
  {
   "cell_type": "markdown",
   "id": "0bc76339",
   "metadata": {},
   "source": [
    "Similarly, we can create a tensor with all 1s by invoking ones."
   ]
  },
  {
   "cell_type": "code",
   "execution_count": 32,
   "id": "39f0ff6f",
   "metadata": {},
   "outputs": [
    {
     "data": {
      "text/plain": [
       "tensor([[[1., 1., 1., 1.],\n",
       "         [1., 1., 1., 1.],\n",
       "         [1., 1., 1., 1.]],\n",
       "\n",
       "        [[1., 1., 1., 1.],\n",
       "         [1., 1., 1., 1.],\n",
       "         [1., 1., 1., 1.]]])"
      ]
     },
     "execution_count": 32,
     "metadata": {},
     "output_type": "execute_result"
    }
   ],
   "source": [
    "torch.ones((2, 3, 4))"
   ]
  },
  {
   "cell_type": "markdown",
   "id": "8fa60b5a",
   "metadata": {},
   "source": [
    "We often wish to sample each element randomly (and independently) from a given probability distribution. For example, the parameters of neural networks are often initialized randomly. The following snippet creates a tensor with elements drawn from a standard Gaussian (normal) distribution with mean 0 and standard deviation 1."
   ]
  },
  {
   "cell_type": "code",
   "execution_count": 33,
   "id": "9880cc1e",
   "metadata": {},
   "outputs": [
    {
     "data": {
      "text/plain": [
       "tensor([[ 0.9008, -0.5212,  2.1063,  0.6215],\n",
       "        [ 0.9853, -0.9529, -0.7557,  1.1458],\n",
       "        [ 0.6122,  0.8553,  2.1288,  0.9179]])"
      ]
     },
     "execution_count": 33,
     "metadata": {},
     "output_type": "execute_result"
    }
   ],
   "source": [
    "torch.randn(3, 4)"
   ]
  },
  {
   "cell_type": "markdown",
   "id": "43417912",
   "metadata": {},
   "source": [
    "Finally, we can construct tensors by supplying the exact values for each element by supplying (possibly nested) Python list(s) containing numerical literals. Here, we construct a matrix with a list of lists, where the outermost list corresponds to axis 0, and the inner list corresponds to axis 1."
   ]
  },
  {
   "cell_type": "code",
   "execution_count": 34,
   "id": "3d7d4a0b",
   "metadata": {},
   "outputs": [
    {
     "data": {
      "text/plain": [
       "tensor([[ 1,  2,  3,  4],\n",
       "        [ 5,  6,  7,  8],\n",
       "        [ 9, 10, 11, 12]])"
      ]
     },
     "execution_count": 34,
     "metadata": {},
     "output_type": "execute_result"
    }
   ],
   "source": [
    "torch.tensor([\n",
    "    [1, 2, 3, 4],\n",
    "    [5, 6, 7, 8],\n",
    "    [9, 10, 11, 12] \n",
    "    ])"
   ]
  },
  {
   "cell_type": "markdown",
   "id": "7c85aa75",
   "metadata": {},
   "source": [
    "### Indexing and Slicing"
   ]
  },
  {
   "cell_type": "markdown",
   "id": "f22db1b1",
   "metadata": {},
   "source": [
    "As with Python lists, we can access tensor elements by indexing\n",
    "(starting with 0). To access an element based on its position relative\n",
    "to the end of the list, we can use negative indexing. Finally, we can\n",
    "access whole ranges of indices via slicing (e.g., ``X[start:stop]``),\n",
    "where the returned value includes the first index (``start``) *but not\n",
    "the last* (``stop``). Finally, when only one index (or slice) is\n",
    "specified for a  $k^{th}$-order tensor, it is applied along\n",
    "axis 0. Thus, in the following code, ``[-1]`` selects the last row and\n",
    "``[1:3]`` selects the second and third rows."
   ]
  },
  {
   "cell_type": "code",
   "execution_count": 35,
   "id": "d5ccdce5",
   "metadata": {},
   "outputs": [
    {
     "data": {
      "text/plain": [
       "(tensor([ 8,  9, 10, 11]),\n",
       " tensor([[ 4,  5,  6,  7],\n",
       "         [ 8,  9, 10, 11]]))"
      ]
     },
     "execution_count": 35,
     "metadata": {},
     "output_type": "execute_result"
    }
   ],
   "source": [
    "X[-1], X[1:3]"
   ]
  },
  {
   "cell_type": "markdown",
   "id": "7a17f4dc",
   "metadata": {},
   "source": [
    "Beyond reading them, we can also write elements of a matrix by specifying indices."
   ]
  },
  {
   "cell_type": "code",
   "execution_count": 36,
   "id": "f1eafa57",
   "metadata": {},
   "outputs": [
    {
     "data": {
      "text/plain": [
       "tensor(6)"
      ]
     },
     "execution_count": 36,
     "metadata": {},
     "output_type": "execute_result"
    }
   ],
   "source": [
    "X[1,2]"
   ]
  },
  {
   "cell_type": "code",
   "execution_count": 38,
   "id": "edb4d19d",
   "metadata": {},
   "outputs": [
    {
     "data": {
      "text/plain": [
       "tensor([[ 0,  1,  2,  3],\n",
       "        [ 4,  5, 25,  7],\n",
       "        [ 8,  9, 10, 11]])"
      ]
     },
     "execution_count": 38,
     "metadata": {},
     "output_type": "execute_result"
    }
   ],
   "source": [
    "X[1,2] = 25 #change row 1, col 2 to 25\n",
    "X"
   ]
  },
  {
   "cell_type": "code",
   "execution_count": 39,
   "id": "1281808a",
   "metadata": {},
   "outputs": [
    {
     "data": {
      "text/plain": [
       "tensor(25)"
      ]
     },
     "execution_count": 39,
     "metadata": {},
     "output_type": "execute_result"
    }
   ],
   "source": [
    "X[1][2]"
   ]
  },
  {
   "cell_type": "markdown",
   "id": "dcc42353",
   "metadata": {},
   "source": [
    "If we want to assign multiple elements the same value, we apply the\n",
    "indexing on the left-hand side of the assignment operation. For\n",
    "instance, ``[:2, :]`` accesses the first and second rows, where ``:``\n",
    "takes all the elements along axis 1 (column). While we discussed\n",
    "indexing for matrices, this also works for vectors and for tensors of\n",
    "more than two dimensions."
   ]
  },
  {
   "cell_type": "code",
   "execution_count": 41,
   "id": "66a99a68",
   "metadata": {},
   "outputs": [
    {
     "data": {
      "text/plain": [
       "tensor([[12, 12, 12,  3],\n",
       "        [12, 12, 12,  7],\n",
       "        [ 8,  9, 10, 11]])"
      ]
     },
     "execution_count": 41,
     "metadata": {},
     "output_type": "execute_result"
    }
   ],
   "source": [
    "X[:2, :3] = 12 #change from row 0 to 1, and col 0 to 2, to value 12\n",
    "X "
   ]
  },
  {
   "cell_type": "markdown",
   "id": "f28e6c4a",
   "metadata": {},
   "source": [
    "### Operations"
   ]
  },
  {
   "cell_type": "markdown",
   "id": "59300f35",
   "metadata": {},
   "source": [
    "Now that we know how to construct tensors and how to read from and write\n",
    "to their elements, we can begin to manipulate them with various\n",
    "mathematical operations. Among the most useful of these are the\n",
    "*elementwise* operations. These apply a standard scalar operation to\n",
    "each element of a tensor. For functions that take two tensors as inputs,\n",
    "elementwise operations apply some standard binary operator on each pair\n",
    "of corresponding elements. We can create an elementwise function from\n",
    "any function that maps from a scalar to a scalar."
   ]
  },
  {
   "cell_type": "markdown",
   "id": "e963dc87",
   "metadata": {},
   "source": [
    "In mathematical notation, we denote such *unary* scalar operators\n",
    "(taking one input) by the signature\n",
    "$f : \\mathbb{R} \\to \\mathbb{R}.$ . This just means that the\n",
    "function maps from any real number onto some other real number. Most\n",
    "standard operators, including unary ones like $e^x$, can be\n",
    "applied elementwise."
   ]
  },
  {
   "cell_type": "code",
   "execution_count": 42,
   "id": "0a808520",
   "metadata": {},
   "outputs": [
    {
     "data": {
      "text/plain": [
       "tensor([12, 12, 12,  3, 12, 12, 12,  7,  8,  9, 10, 11])"
      ]
     },
     "execution_count": 42,
     "metadata": {},
     "output_type": "execute_result"
    }
   ],
   "source": [
    "x"
   ]
  },
  {
   "cell_type": "code",
   "execution_count": 43,
   "id": "57c7b7de",
   "metadata": {},
   "outputs": [
    {
     "data": {
      "text/plain": [
       "tensor([1.6275e+05, 1.6275e+05, 1.6275e+05, 2.0086e+01, 1.6275e+05, 1.6275e+05,\n",
       "        1.6275e+05, 1.0966e+03, 2.9810e+03, 8.1031e+03, 2.2026e+04, 5.9874e+04])"
      ]
     },
     "execution_count": 43,
     "metadata": {},
     "output_type": "execute_result"
    }
   ],
   "source": [
    "torch.exp(x)"
   ]
  },
  {
   "cell_type": "code",
   "execution_count": 44,
   "id": "a6357601",
   "metadata": {},
   "outputs": [
    {
     "data": {
      "text/plain": [
       "(tensor([ 3.,  4.,  7., 12.]),\n",
       " tensor([-1.,  0.,  1.,  4.]),\n",
       " tensor([ 2.,  4., 12., 32.]),\n",
       " tensor([0.5000, 1.0000, 1.3333, 2.0000]),\n",
       " tensor([1.0000e+00, 4.0000e+00, 6.4000e+01, 4.0960e+03]))"
      ]
     },
     "execution_count": 44,
     "metadata": {},
     "output_type": "execute_result"
    }
   ],
   "source": [
    "x = torch.tensor([1.0, 2, 4, 8])\n",
    "y = torch.tensor([2, 2, 3, 4])\n",
    "x + y, x - y, x * y, x / y, x ** y"
   ]
  },
  {
   "cell_type": "markdown",
   "id": "ad2c171a",
   "metadata": {},
   "source": [
    "In addition to elementwise computations, we can also perform linear algebraic operations, such as dot products and matrix multiplications."
   ]
  },
  {
   "cell_type": "markdown",
   "id": "89c6543d",
   "metadata": {},
   "source": [
    "We can also *concatenate* multiple tensors, stacking them end-to-end to\n",
    "form a larger one. We just need to provide a list of tensors and tell\n",
    "the system along which axis to concatenate. The example below shows what\n",
    "happens when we concatenate two matrices along rows (axis 0) instead of\n",
    "columns (axis 1). We can see that the first output's axis-0 length\n",
    "(`6`) is the sum of the two input tensors's axis-0 lengths\n",
    "(`3 + 3`); while the second output's axis-1 length (`8`) is\n",
    "the sum of the two input tensors's axis-1 lengths (`4 + 4`)."
   ]
  },
  {
   "cell_type": "code",
   "execution_count": 45,
   "id": "fd8c00ec",
   "metadata": {},
   "outputs": [],
   "source": [
    "X = torch.arange(12, dtype=torch.float32).reshape(3, 4)\n",
    "Y = torch.tensor([\n",
    "    [2.0, 1, 4, 3],\n",
    "    [1, 2, 3, 4],\n",
    "    [4, 3, 2, 1]    \n",
    "])"
   ]
  },
  {
   "cell_type": "code",
   "execution_count": 48,
   "id": "c4965db2",
   "metadata": {},
   "outputs": [
    {
     "data": {
      "text/plain": [
       "tensor([[ 0.,  1.,  2.,  3.],\n",
       "        [ 4.,  5.,  6.,  7.],\n",
       "        [ 8.,  9., 10., 11.],\n",
       "        [ 2.,  1.,  4.,  3.],\n",
       "        [ 1.,  2.,  3.,  4.],\n",
       "        [ 4.,  3.,  2.,  1.]])"
      ]
     },
     "execution_count": 48,
     "metadata": {},
     "output_type": "execute_result"
    }
   ],
   "source": [
    "torch.cat((X, Y), dim = 0) #dim = 0 -> concatenate along row"
   ]
  },
  {
   "cell_type": "code",
   "execution_count": null,
   "id": "533a0ab1",
   "metadata": {},
   "outputs": [
    {
     "data": {
      "text/plain": [
       "tensor([[ 0.,  1.,  2.,  3.,  2.,  1.,  4.,  3.],\n",
       "        [ 4.,  5.,  6.,  7.,  1.,  2.,  3.,  4.],\n",
       "        [ 8.,  9., 10., 11.,  4.,  3.,  2.,  1.]])"
      ]
     },
     "execution_count": 49,
     "metadata": {},
     "output_type": "execute_result"
    }
   ],
   "source": [
    "torch.cat((X, Y), dim = 1) #dim = 1 -> concatenate along column"
   ]
  },
  {
   "cell_type": "markdown",
   "id": "4fa850f1",
   "metadata": {},
   "source": [
    "Sometimes, we want to construct a binary tensor via *logical\n",
    "statements*. Take ``X == Y`` as an example. For each position ``i, j``,\n",
    "if ``X[i, j]`` and ``Y[i, j]`` are equal, then the corresponding entry\n",
    "in the result takes value ``1``, otherwise it takes value ``0``."
   ]
  },
  {
   "cell_type": "code",
   "execution_count": 50,
   "id": "48c8ffd0",
   "metadata": {},
   "outputs": [
    {
     "data": {
      "text/plain": [
       "tensor([[False,  True, False,  True],\n",
       "        [False, False, False, False],\n",
       "        [False, False, False, False]])"
      ]
     },
     "execution_count": 50,
     "metadata": {},
     "output_type": "execute_result"
    }
   ],
   "source": [
    "X == Y"
   ]
  },
  {
   "cell_type": "markdown",
   "id": "04677ebc",
   "metadata": {},
   "source": [
    "Summing all the elements in the tensor yieldsa tensor with only one element."
   ]
  },
  {
   "cell_type": "code",
   "execution_count": 54,
   "id": "d5625c42",
   "metadata": {},
   "outputs": [
    {
     "data": {
      "text/plain": [
       "tensor([[ 0.,  1.,  2.,  3.],\n",
       "        [ 4.,  5.,  6.,  7.],\n",
       "        [ 8.,  9., 10., 11.]])"
      ]
     },
     "execution_count": 54,
     "metadata": {},
     "output_type": "execute_result"
    }
   ],
   "source": [
    "X"
   ]
  },
  {
   "cell_type": "code",
   "execution_count": 52,
   "id": "9a3a7e33",
   "metadata": {},
   "outputs": [
    {
     "data": {
      "text/plain": [
       "tensor(66.)"
      ]
     },
     "execution_count": 52,
     "metadata": {},
     "output_type": "execute_result"
    }
   ],
   "source": [
    "X.sum()"
   ]
  },
  {
   "cell_type": "code",
   "execution_count": null,
   "id": "e27d84e3",
   "metadata": {},
   "outputs": [
    {
     "data": {
      "text/plain": [
       "tensor([12., 15., 18., 21.])"
      ]
     },
     "execution_count": 53,
     "metadata": {},
     "output_type": "execute_result"
    }
   ],
   "source": [
    "X.sum(dim = 0)"
   ]
  },
  {
   "cell_type": "code",
   "execution_count": 55,
   "id": "a1653f5e",
   "metadata": {},
   "outputs": [
    {
     "data": {
      "text/plain": [
       "tensor([ 6., 22., 38.])"
      ]
     },
     "execution_count": 55,
     "metadata": {},
     "output_type": "execute_result"
    }
   ],
   "source": [
    "X.sum(dim = 1)"
   ]
  },
  {
   "cell_type": "markdown",
   "id": "4ce8a5ab",
   "metadata": {},
   "source": [
    "### Broadcasting"
   ]
  },
  {
   "cell_type": "markdown",
   "id": "e11a55c1",
   "metadata": {},
   "source": [
    "By now, you know how to perform elementwise binary operations on two\n",
    "tensors of the same shape. Under certain conditions, even when shapes\n",
    "differ, we can still perform elementwise binary operations by invoking\n",
    "the *broadcasting mechanism*. Broadcasting works according to the\n",
    "following two-step procedure: (i) expand one or both arrays by copying\n",
    "elements along axes with length 1 so that after this transformation, the\n",
    "two tensors have the same shape; (ii) perform an elementwise operation\n",
    "on the resulting arrays."
   ]
  },
  {
   "cell_type": "code",
   "execution_count": 57,
   "id": "1828caff",
   "metadata": {},
   "outputs": [
    {
     "data": {
      "text/plain": [
       "(tensor([[0],\n",
       "         [1],\n",
       "         [2]]),\n",
       " tensor([[0, 1]]))"
      ]
     },
     "execution_count": 57,
     "metadata": {},
     "output_type": "execute_result"
    }
   ],
   "source": [
    "a = torch.arange(3).reshape(3, 1)\n",
    "b = torch.arange(2).reshape(1,2)\n",
    "a, b"
   ]
  },
  {
   "cell_type": "markdown",
   "id": "e0e477b1",
   "metadata": {},
   "source": [
    "Since ``a`` and ``b`` are $3 \\times 1$ and $1 \\times 2$\n",
    "matrices, respectively, their shapes do not match up. Broadcasting\n",
    "produces a larger $3 \\times 2$ matrix by replicating matrix ``a``\n",
    "along the columns and matrix ``b`` along the rows before adding them\n",
    "elementwise."
   ]
  },
  {
   "cell_type": "code",
   "execution_count": 58,
   "id": "b6da178b",
   "metadata": {},
   "outputs": [
    {
     "data": {
      "text/plain": [
       "tensor([[0, 1],\n",
       "        [1, 2],\n",
       "        [2, 3]])"
      ]
     },
     "execution_count": 58,
     "metadata": {},
     "output_type": "execute_result"
    }
   ],
   "source": [
    "a + b"
   ]
  },
  {
   "cell_type": "markdown",
   "id": "745644fc",
   "metadata": {},
   "source": [
    "### Saving Memory"
   ]
  },
  {
   "cell_type": "markdown",
   "id": "f622c128",
   "metadata": {},
   "source": [
    "Running operations can cause new memory to be allocated to host results.\n",
    "For example, if we write ``Y = X + Y``, we dereference the tensor that\n",
    "``Y`` used to point to and instead point ``Y`` at the newly allocated\n",
    "memory. We can demonstrate this issue with Python's ``id()`` function,\n",
    "which gives us the exact address of the referenced object in memory.\n",
    "Note that after we run ``Y = Y + X``, ``id(Y)`` points to a different\n",
    "location. That is because Python first evaluates ``Y + X``, allocating\n",
    "new memory for the result and then points ``Y`` to this new location in\n",
    "memory."
   ]
  },
  {
   "cell_type": "code",
   "execution_count": 59,
   "id": "1c01cefc",
   "metadata": {},
   "outputs": [
    {
     "data": {
      "text/plain": [
       "False"
      ]
     },
     "execution_count": 59,
     "metadata": {},
     "output_type": "execute_result"
    }
   ],
   "source": [
    "before = id(Y)\n",
    "Y = Y + X\n",
    "id(Y) == before"
   ]
  },
  {
   "cell_type": "code",
   "execution_count": 60,
   "id": "5e0e9b6f",
   "metadata": {},
   "outputs": [
    {
     "data": {
      "text/plain": [
       "2452973894560"
      ]
     },
     "execution_count": 60,
     "metadata": {},
     "output_type": "execute_result"
    }
   ],
   "source": [
    "id(Y)"
   ]
  },
  {
   "cell_type": "code",
   "execution_count": 61,
   "id": "c99f3a14",
   "metadata": {},
   "outputs": [
    {
     "data": {
      "text/plain": [
       "2452965709504"
      ]
     },
     "execution_count": 61,
     "metadata": {},
     "output_type": "execute_result"
    }
   ],
   "source": [
    "before"
   ]
  },
  {
   "cell_type": "markdown",
   "id": "b86337d5",
   "metadata": {},
   "source": [
    "This might be undesirable for two reasons. First, we do not want to run\n",
    "around allocating memory unnecessarily all the time. In machine\n",
    "learning, we often have hundreds of megabytes of parameters and update\n",
    "all of them multiple times per second. Whenever possible, we want to\n",
    "perform these updates *in place*. Second, we might point at the same\n",
    "parameters from multiple variables. If we do not update in place, we\n",
    "must be careful to update all of these references, lest we spring a\n",
    "memory leak or inadvertently refer to stale parameters.\n"
   ]
  },
  {
   "cell_type": "markdown",
   "id": "1a1de16b",
   "metadata": {},
   "source": [
    "Fortunately, performing in-place operations is easy. We can assign the\n",
    "result of an operation to a previously allocated array ``Y`` by using\n",
    "slice notation: ``Y[:] = <expression>``. To illustrate this concept, we\n",
    "overwrite the values of tensor ``Z``, after initializing it, using\n",
    "``zeros_like``, to have the same shape as ``Y``."
   ]
  },
  {
   "cell_type": "code",
   "execution_count": 64,
   "id": "3566446a",
   "metadata": {},
   "outputs": [
    {
     "name": "stdout",
     "output_type": "stream",
     "text": [
      "id(Z): 2452978300656\n",
      "id(Z): 2452978300656\n"
     ]
    }
   ],
   "source": [
    "Z = torch.zeros_like(Y)\n",
    "print(f\"id(Z): {id(Z)}\")\n",
    "Z[:] = X + Y \n",
    "print(f\"id(Z): {id(Z)}\")"
   ]
  },
  {
   "cell_type": "markdown",
   "id": "8473c1e1",
   "metadata": {},
   "source": [
    "If the value of ``X`` is not reused in subsequent computations, we can\n",
    "also use ``X[:] = X + Y`` or ``X += Y`` to reduce the memory overhead of\n",
    "the operation."
   ]
  },
  {
   "cell_type": "code",
   "execution_count": 65,
   "id": "5534926a",
   "metadata": {},
   "outputs": [
    {
     "data": {
      "text/plain": [
       "True"
      ]
     },
     "execution_count": 65,
     "metadata": {},
     "output_type": "execute_result"
    }
   ],
   "source": [
    "before = id(X)\n",
    "X += Y\n",
    "id(X) == before"
   ]
  },
  {
   "cell_type": "markdown",
   "id": "0ed27534",
   "metadata": {},
   "source": [
    "### Conversion to Other Python Objects"
   ]
  },
  {
   "cell_type": "markdown",
   "id": "65de9b6a",
   "metadata": {},
   "source": [
    "Converting to a NumPy tensor (``ndarray``), or vice versa, is easy. The\n",
    "torch tensor and NumPy array will share their underlying memory, and\n",
    "changing one through an in-place operation will also change the other."
   ]
  },
  {
   "cell_type": "code",
   "execution_count": 66,
   "id": "11d344b8",
   "metadata": {},
   "outputs": [
    {
     "data": {
      "text/plain": [
       "(numpy.ndarray, torch.Tensor)"
      ]
     },
     "execution_count": 66,
     "metadata": {},
     "output_type": "execute_result"
    }
   ],
   "source": [
    "A = X.numpy()\n",
    "B = torch.from_numpy(A)\n",
    "type(A), type(B)"
   ]
  },
  {
   "cell_type": "markdown",
   "id": "0d542b21",
   "metadata": {},
   "source": [
    "To convert a size-1 tensor to a Python scalar, we can invoke the\n",
    "``item`` function or Python's built-in functions."
   ]
  },
  {
   "cell_type": "code",
   "execution_count": 67,
   "id": "a644333a",
   "metadata": {},
   "outputs": [
    {
     "data": {
      "text/plain": [
       "(tensor([3.5000]), 3.5, 3.5, 3)"
      ]
     },
     "execution_count": 67,
     "metadata": {},
     "output_type": "execute_result"
    }
   ],
   "source": [
    "a = torch.tensor([3.5])\n",
    "a, a.item(), float(a), int(a)"
   ]
  },
  {
   "cell_type": "markdown",
   "id": "a9875aa2",
   "metadata": {},
   "source": [
    "### Summary"
   ]
  },
  {
   "cell_type": "markdown",
   "id": "3f2335f8",
   "metadata": {},
   "source": [
    "The tensor class is the main interface for storing and manipulating data in deep learning libraries. Tensors provide a variety of functionalities including construction routines; indexing and slicing; basic mathematics operations; broadcasting; memory-efficient assignment; and conversion to and from other Python objects."
   ]
  },
  {
   "cell_type": "markdown",
   "id": "3fc8bba4",
   "metadata": {},
   "source": [
    "### Exercises\n",
    "1. Run the code in this section. Change the conditional statement\n",
    "   ``X == Y`` to ``X < Y`` or ``X > Y``, and then see what kind of\n",
    "   tensor you can get.\n",
    "2. Replace the two tensors that operate by element in the broadcasting\n",
    "   mechanism with other shapes, e.g., 3-dimensional tensors. Is the\n",
    "   result the same as expected?"
   ]
  },
  {
   "cell_type": "code",
   "execution_count": 68,
   "id": "19c3884f",
   "metadata": {},
   "outputs": [
    {
     "data": {
      "text/plain": [
       "(tensor([[ 2.,  3.,  8.,  9.],\n",
       "         [ 9., 12., 15., 18.],\n",
       "         [20., 21., 22., 23.]]),\n",
       " tensor([[ 2.,  2.,  6.,  6.],\n",
       "         [ 5.,  7.,  9., 11.],\n",
       "         [12., 12., 12., 12.]]))"
      ]
     },
     "execution_count": 68,
     "metadata": {},
     "output_type": "execute_result"
    }
   ],
   "source": [
    "#1\n",
    "X, Y"
   ]
  },
  {
   "cell_type": "code",
   "execution_count": 69,
   "id": "9ea3d894",
   "metadata": {},
   "outputs": [
    {
     "data": {
      "text/plain": [
       "tensor([[ True, False, False, False],\n",
       "        [False, False, False, False],\n",
       "        [False, False, False, False]])"
      ]
     },
     "execution_count": 69,
     "metadata": {},
     "output_type": "execute_result"
    }
   ],
   "source": [
    "X == Y"
   ]
  },
  {
   "cell_type": "code",
   "execution_count": 70,
   "id": "6a6a47df",
   "metadata": {},
   "outputs": [
    {
     "data": {
      "text/plain": [
       "tensor([[False,  True,  True,  True],\n",
       "        [ True,  True,  True,  True],\n",
       "        [ True,  True,  True,  True]])"
      ]
     },
     "execution_count": 70,
     "metadata": {},
     "output_type": "execute_result"
    }
   ],
   "source": [
    "X > Y"
   ]
  },
  {
   "cell_type": "code",
   "execution_count": 71,
   "id": "9db42693",
   "metadata": {},
   "outputs": [
    {
     "data": {
      "text/plain": [
       "tensor([[False, False, False, False],\n",
       "        [False, False, False, False],\n",
       "        [False, False, False, False]])"
      ]
     },
     "execution_count": 71,
     "metadata": {},
     "output_type": "execute_result"
    }
   ],
   "source": [
    "X < Y"
   ]
  },
  {
   "cell_type": "code",
   "execution_count": 76,
   "id": "883fe6a1",
   "metadata": {},
   "outputs": [
    {
     "data": {
      "text/plain": [
       "(tensor([[[ 0,  1,  2],\n",
       "          [ 3,  4,  5]],\n",
       " \n",
       "         [[ 6,  7,  8],\n",
       "          [ 9, 10, 11]]]),\n",
       " tensor([[0, 1, 2],\n",
       "         [3, 4, 5]]))"
      ]
     },
     "execution_count": 76,
     "metadata": {},
     "output_type": "execute_result"
    }
   ],
   "source": [
    "a = torch.arange(12).reshape((2, 2, 3))\n",
    "b = torch.arange(6).reshape((-1, 3))\n",
    "a, b"
   ]
  },
  {
   "cell_type": "code",
   "execution_count": 77,
   "id": "6e83400b",
   "metadata": {},
   "outputs": [
    {
     "data": {
      "text/plain": [
       "tensor([[[ 0,  2,  4],\n",
       "         [ 6,  8, 10]],\n",
       "\n",
       "        [[ 6,  8, 10],\n",
       "         [12, 14, 16]]])"
      ]
     },
     "execution_count": 77,
     "metadata": {},
     "output_type": "execute_result"
    }
   ],
   "source": [
    "a + b"
   ]
  }
 ],
 "metadata": {
  "kernelspec": {
   "display_name": "Python 3",
   "language": "python",
   "name": "python3"
  },
  "language_info": {
   "codemirror_mode": {
    "name": "ipython",
    "version": 3
   },
   "file_extension": ".py",
   "mimetype": "text/x-python",
   "name": "python",
   "nbconvert_exporter": "python",
   "pygments_lexer": "ipython3",
   "version": "3.10.9"
  }
 },
 "nbformat": 4,
 "nbformat_minor": 5
}
