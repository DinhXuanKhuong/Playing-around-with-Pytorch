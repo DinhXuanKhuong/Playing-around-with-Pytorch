{
  "cells": [
    {
      "cell_type": "markdown",
      "id": "4144c129",
      "metadata": {
        "id": "4144c129",
        "origin_pos": 1
      },
      "source": [
        "# Automatic Differentiation\n",
        ":label:`sec_autograd`\n",
        "\n",
        "Recall from :numref:`sec_calculus`\n",
        "that calculating derivatives is the crucial step\n",
        "in all the optimization algorithms\n",
        "that we will use to train deep networks.\n",
        "While the calculations are straightforward,\n",
        "working them out by hand can be tedious and error-prone,\n",
        "and these issues only grow\n",
        "as our models become more complex.\n",
        "\n",
        "Fortunately all modern deep learning frameworks\n",
        "take this work off our plates\n",
        "by offering *automatic differentiation*\n",
        "(often shortened to *autograd*).\n",
        "As we pass data through each successive function,\n",
        "the framework builds a *computational graph*\n",
        "that tracks how each value depends on others.\n",
        "To calculate derivatives,\n",
        "automatic differentiation\n",
        "works backwards through this graph\n",
        "applying the chain rule.\n",
        "The computational algorithm for applying the chain rule\n",
        "in this fashion is called *backpropagation*.\n",
        "\n",
        "While autograd libraries have become\n",
        "a hot concern over the past decade,\n",
        "they have a long history.\n",
        "In fact the earliest references to autograd\n",
        "date back over half of a century :cite:`Wengert.1964`.\n",
        "The core ideas behind modern backpropagation\n",
        "date to a PhD thesis from 1980 :cite:`Speelpenning.1980`\n",
        "and were further developed in the late 1980s :cite:`Griewank.1989`.\n",
        "While backpropagation has become the default method\n",
        "for computing gradients, it is not the only option.\n",
        "For instance, the Julia programming language employs\n",
        "forward propagation :cite:`Revels.Lubin.Papamarkou.2016`.\n",
        "Before exploring methods,\n",
        "let's first master the autograd package.\n"
      ]
    },
    {
      "cell_type": "code",
      "execution_count": 1,
      "id": "130439cd",
      "metadata": {
        "execution": {
          "iopub.execute_input": "2023-08-18T19:26:08.286501Z",
          "iopub.status.busy": "2023-08-18T19:26:08.285693Z",
          "iopub.status.idle": "2023-08-18T19:26:10.052257Z",
          "shell.execute_reply": "2023-08-18T19:26:10.050994Z"
        },
        "id": "130439cd",
        "origin_pos": 3,
        "tab": [
          "pytorch"
        ]
      },
      "outputs": [],
      "source": [
        "import torch"
      ]
    },
    {
      "cell_type": "markdown",
      "id": "e2ab3850",
      "metadata": {
        "id": "e2ab3850",
        "origin_pos": 6
      },
      "source": [
        "## A Simple Function\n",
        "\n",
        "Let's assume that we are interested\n",
        "in (**differentiating the function\n",
        "$y = 2\\mathbf{x}^{\\top}\\mathbf{x}$\n",
        "with respect to the column vector $\\mathbf{x}$.**)\n",
        "To start, we assign `x` an initial value.\n"
      ]
    },
    {
      "cell_type": "code",
      "execution_count": 2,
      "id": "4253cfab",
      "metadata": {
        "attributes": {
          "classes": [],
          "id": "",
          "n": "7"
        },
        "execution": {
          "iopub.execute_input": "2023-08-18T19:26:10.056833Z",
          "iopub.status.busy": "2023-08-18T19:26:10.055871Z",
          "iopub.status.idle": "2023-08-18T19:26:10.084858Z",
          "shell.execute_reply": "2023-08-18T19:26:10.083727Z"
        },
        "id": "4253cfab",
        "origin_pos": 8,
        "outputId": "10c51c53-52a9-4c68-cfbc-4d3cdbefee97",
        "tab": [
          "pytorch"
        ]
      },
      "outputs": [
        {
          "data": {
            "text/plain": [
              "tensor([0., 1., 2., 3.])"
            ]
          },
          "execution_count": 2,
          "metadata": {},
          "output_type": "execute_result"
        }
      ],
      "source": [
        "x = torch.arange(4.0)\n",
        "x"
      ]
    },
    {
      "cell_type": "markdown",
      "id": "e75614b0",
      "metadata": {
        "id": "e75614b0",
        "origin_pos": 11,
        "tab": [
          "pytorch"
        ]
      },
      "source": [
        "[**Before we calculate the gradient\n",
        "of $y$ with respect to $\\mathbf{x}$,\n",
        "we need a place to store it.**]\n",
        "In general, we avoid allocating new memory\n",
        "every time we take a derivative\n",
        "because deep learning requires\n",
        "successively computing derivatives\n",
        "with respect to the same parameters\n",
        "a great many times,\n",
        "and we might risk running out of memory.\n",
        "Note that the gradient of a scalar-valued function\n",
        "with respect to a vector $\\mathbf{x}$\n",
        "is vector-valued with\n",
        "the same shape as $\\mathbf{x}$.\n"
      ]
    },
    {
      "cell_type": "code",
      "execution_count": 3,
      "id": "2a001d1e",
      "metadata": {
        "attributes": {
          "classes": [],
          "id": "",
          "n": "9"
        },
        "execution": {
          "iopub.execute_input": "2023-08-18T19:26:10.088716Z",
          "iopub.status.busy": "2023-08-18T19:26:10.087816Z",
          "iopub.status.idle": "2023-08-18T19:26:10.092878Z",
          "shell.execute_reply": "2023-08-18T19:26:10.091740Z"
        },
        "id": "2a001d1e",
        "origin_pos": 13,
        "tab": [
          "pytorch"
        ]
      },
      "outputs": [],
      "source": [
        "# Can also create x = torch.arange(4.0, requires_grad=True)\n",
        "x.requires_grad_(True)\n",
        "x.grad  # The gradient is None by default"
      ]
    },
    {
      "cell_type": "markdown",
      "id": "2e74bc02",
      "metadata": {
        "id": "2e74bc02",
        "origin_pos": 15
      },
      "source": [
        "(**We now calculate our function of `x` and assign the result to `y`.**)\n"
      ]
    },
    {
      "cell_type": "markdown",
      "id": "e2a5767e",
      "metadata": {},
      "source": [
        "dot(x,x)=0∗0+1∗1+2∗2+3∗3=0+1+4+9=14"
      ]
    },
    {
      "cell_type": "code",
      "execution_count": 4,
      "id": "6e3bd777",
      "metadata": {
        "attributes": {
          "classes": [],
          "id": "",
          "n": "11"
        },
        "execution": {
          "iopub.execute_input": "2023-08-18T19:26:10.096336Z",
          "iopub.status.busy": "2023-08-18T19:26:10.095772Z",
          "iopub.status.idle": "2023-08-18T19:26:10.105236Z",
          "shell.execute_reply": "2023-08-18T19:26:10.104075Z"
        },
        "id": "6e3bd777",
        "origin_pos": 17,
        "outputId": "9e4e2664-d9c1-4784-98cb-74350eba2e20",
        "tab": [
          "pytorch"
        ]
      },
      "outputs": [
        {
          "data": {
            "text/plain": [
              "tensor(28., grad_fn=<MulBackward0>)"
            ]
          },
          "execution_count": 4,
          "metadata": {},
          "output_type": "execute_result"
        }
      ],
      "source": [
        "y = 2 * torch.dot(x, x)\n",
        "y"
      ]
    },
    {
      "cell_type": "markdown",
      "id": "c3067490",
      "metadata": {
        "id": "c3067490",
        "origin_pos": 21,
        "tab": [
          "pytorch"
        ]
      },
      "source": [
        "[**We can now take the gradient of `y`\n",
        "with respect to `x`**] by calling\n",
        "its `backward` method.\n",
        "Next, we can access the gradient\n",
        "via `x`'s `grad` attribute.\n"
      ]
    },
    {
      "cell_type": "code",
      "execution_count": 5,
      "id": "21b134ae",
      "metadata": {
        "attributes": {
          "classes": [],
          "id": "",
          "n": "12"
        },
        "execution": {
          "iopub.execute_input": "2023-08-18T19:26:10.108600Z",
          "iopub.status.busy": "2023-08-18T19:26:10.108011Z",
          "iopub.status.idle": "2023-08-18T19:26:10.160854Z",
          "shell.execute_reply": "2023-08-18T19:26:10.159702Z"
        },
        "id": "21b134ae",
        "origin_pos": 25,
        "outputId": "df1b10cd-9beb-4d21-b1c2-3d474aaef34e",
        "tab": [
          "pytorch"
        ]
      },
      "outputs": [
        {
          "data": {
            "text/plain": [
              "tensor([ 0.,  4.,  8., 12.])"
            ]
          },
          "execution_count": 5,
          "metadata": {},
          "output_type": "execute_result"
        }
      ],
      "source": [
        "y.backward()\n",
        "x.grad"
      ]
    },
    {
      "cell_type": "markdown",
      "id": "68b4d256",
      "metadata": {},
      "source": [
        "y = 2x^2 => y' = 4x with x = [0 1 2 3] => y' = 4x = [0 4 8 12]"
      ]
    },
    {
      "cell_type": "markdown",
      "id": "17d1390b",
      "metadata": {
        "id": "17d1390b",
        "origin_pos": 28
      },
      "source": [
        "(**We already know that the gradient of the function $y = 2\\mathbf{x}^{\\top}\\mathbf{x}$\n",
        "with respect to $\\mathbf{x}$ should be $4\\mathbf{x}$.**)\n",
        "We can now verify that the automatic gradient computation\n",
        "and the expected result are identical.\n"
      ]
    },
    {
      "cell_type": "code",
      "execution_count": 6,
      "id": "5030e37d",
      "metadata": {
        "attributes": {
          "classes": [],
          "id": "",
          "n": "14"
        },
        "execution": {
          "iopub.execute_input": "2023-08-18T19:26:10.164665Z",
          "iopub.status.busy": "2023-08-18T19:26:10.163930Z",
          "iopub.status.idle": "2023-08-18T19:26:10.171033Z",
          "shell.execute_reply": "2023-08-18T19:26:10.169923Z"
        },
        "id": "5030e37d",
        "origin_pos": 30,
        "outputId": "4673c5d7-9d9d-47a4-a321-3ea39072baa3",
        "tab": [
          "pytorch"
        ]
      },
      "outputs": [
        {
          "data": {
            "text/plain": [
              "tensor([True, True, True, True])"
            ]
          },
          "execution_count": 6,
          "metadata": {},
          "output_type": "execute_result"
        }
      ],
      "source": [
        "x.grad == 4 * x"
      ]
    },
    {
      "cell_type": "markdown",
      "id": "da440e48",
      "metadata": {
        "id": "da440e48",
        "origin_pos": 34,
        "tab": [
          "pytorch"
        ]
      },
      "source": [
        "[**Now let's calculate\n",
        "another function of `x`\n",
        "and take its gradient.**]\n",
        "Note that PyTorch does not automatically\n",
        "reset the gradient buffer\n",
        "when we record a new gradient.\n",
        "Instead, the new gradient\n",
        "is added to the already-stored gradient.\n",
        "This behavior comes in handy\n",
        "when we want to optimize the sum\n",
        "of multiple objective functions.\n",
        "To reset the gradient buffer,\n",
        "we can call `x.grad.zero_()` as follows:\n"
      ]
    },
    {
      "cell_type": "code",
      "execution_count": 7,
      "id": "add5cf4b",
      "metadata": {
        "attributes": {
          "classes": [],
          "id": "",
          "n": "20"
        },
        "execution": {
          "iopub.execute_input": "2023-08-18T19:26:10.174691Z",
          "iopub.status.busy": "2023-08-18T19:26:10.173957Z",
          "iopub.status.idle": "2023-08-18T19:26:10.181847Z",
          "shell.execute_reply": "2023-08-18T19:26:10.180759Z"
        },
        "id": "add5cf4b",
        "origin_pos": 37,
        "outputId": "3a3d1edd-6da9-46ba-c0ac-ea376e229ac7",
        "tab": [
          "pytorch"
        ]
      },
      "outputs": [
        {
          "data": {
            "text/plain": [
              "tensor([1., 1., 1., 1.])"
            ]
          },
          "execution_count": 7,
          "metadata": {},
          "output_type": "execute_result"
        }
      ],
      "source": [
        "x.grad.zero_()  # Reset the gradient\n",
        "y = x.sum()\n",
        "y.backward()\n",
        "x.grad"
      ]
    },
    {
      "cell_type": "code",
      "execution_count": 9,
      "id": "19b3850b",
      "metadata": {},
      "outputs": [
        {
          "data": {
            "text/plain": [
              "tensor([0., 1., 2., 3.], requires_grad=True)"
            ]
          },
          "execution_count": 9,
          "metadata": {},
          "output_type": "execute_result"
        }
      ],
      "source": [
        "x"
      ]
    },
    {
      "cell_type": "code",
      "execution_count": null,
      "id": "e4ef7dc2",
      "metadata": {},
      "outputs": [
        {
          "data": {
            "text/plain": [
              "tensor([1., 3., 5., 7.])"
            ]
          },
          "execution_count": 10,
          "metadata": {},
          "output_type": "execute_result"
        }
      ],
      "source": [
        "x.grad.zero_() # reset the gradient\n",
        "y =  x.sum() + torch.dot(x,x)\n",
        "y.backward() # [1 1 1 1] + 2x [0 2 4 6] = [1 3 5 7]\n",
        "x.grad"
      ]
    },
    {
      "cell_type": "markdown",
      "id": "1c3f36d6",
      "metadata": {},
      "source": [
        "Dùng y = x → không backward được trực tiếp (vì không phải scalar).\n",
        "\n",
        "Dùng y = x.sum() → cho ra scalar → backward được và gradient easy to understand."
      ]
    },
    {
      "cell_type": "markdown",
      "id": "8bdd4c0c",
      "metadata": {
        "id": "8bdd4c0c",
        "origin_pos": 40
      },
      "source": [
        "## Backward for Non-Scalar Variables\n",
        "\n",
        "When `y` is a vector,\n",
        "the most natural representation\n",
        "of the derivative of  `y`\n",
        "with respect to a vector `x`\n",
        "is a matrix called the *Jacobian*\n",
        "that contains the partial derivatives\n",
        "of each component of `y`\n",
        "with respect to each component of `x`.\n",
        "Likewise, for higher-order `y` and `x`,\n",
        "the result of differentiation could be an even higher-order tensor.\n",
        "\n",
        "While Jacobians do show up in some\n",
        "advanced machine learning techniques,\n",
        "more commonly we want to sum up\n",
        "the gradients of each component of `y`\n",
        "with respect to the full vector `x`,\n",
        "yielding a vector of the same shape as `x`.\n",
        "For example, we often have a vector\n",
        "representing the value of our loss function\n",
        "calculated separately for each example among\n",
        "a *batch* of training examples.\n",
        "Here, we just want to (**sum up the gradients\n",
        "computed individually for each example**).\n"
      ]
    },
    {
      "cell_type": "markdown",
      "id": "9dda7124",
      "metadata": {
        "id": "9dda7124",
        "origin_pos": 42,
        "tab": [
          "pytorch"
        ]
      },
      "source": [
        "Because deep learning frameworks vary\n",
        "in how they interpret gradients of\n",
        "non-scalar tensors,\n",
        "PyTorch takes some steps to avoid confusion.\n",
        "Invoking `backward` on a non-scalar elicits an error\n",
        "unless we tell PyTorch how to reduce the object to a scalar.\n",
        "More formally, we need to provide some vector $\\mathbf{v}$\n",
        "such that `backward` will compute\n",
        "$\\mathbf{v}^\\top \\partial_{\\mathbf{x}} \\mathbf{y}$\n",
        "rather than $\\partial_{\\mathbf{x}} \\mathbf{y}$.\n",
        "This next part may be confusing,\n",
        "but for reasons that will become clear later,\n",
        "this argument (representing $\\mathbf{v}$) is named `gradient`.\n",
        "For a more detailed description, see Yang Zhang's\n",
        "[Medium post](https://zhang-yang.medium.com/the-gradient-argument-in-pytorchs-backward-function-explained-by-examples-68f266950c29).\n"
      ]
    },
    {
      "cell_type": "code",
      "execution_count": null,
      "id": "1baa40bd",
      "metadata": {
        "execution": {
          "iopub.execute_input": "2023-08-18T19:26:10.185096Z",
          "iopub.status.busy": "2023-08-18T19:26:10.184685Z",
          "iopub.status.idle": "2023-08-18T19:26:10.192537Z",
          "shell.execute_reply": "2023-08-18T19:26:10.191435Z"
        },
        "id": "1baa40bd",
        "origin_pos": 45,
        "outputId": "1cc53a77-14ea-429e-dba8-7b504e896d97",
        "tab": [
          "pytorch"
        ]
      },
      "outputs": [
        {
          "data": {
            "text/plain": [
              "tensor([0., 2., 4., 6.])"
            ]
          },
          "execution_count": 8,
          "metadata": {},
          "output_type": "execute_result"
        }
      ],
      "source": [
        "x.grad.zero_()\n",
        "y = x * x\n",
        "y.backward(gradient=torch.ones(len(y)))  # Faster: y.sum().backward()\n",
        "x.grad"
      ]
    },
    {
      "cell_type": "markdown",
      "id": "ffbd2c9d",
      "metadata": {
        "id": "ffbd2c9d",
        "origin_pos": 48
      },
      "source": [
        "## Detaching Computation\n",
        "\n",
        "Sometimes, we wish to [**move some calculations\n",
        "outside of the recorded computational graph.**]\n",
        "For example, say that we use the input\n",
        "to create some auxiliary intermediate terms\n",
        "for which we do not want to compute a gradient.\n",
        "In this case, we need to *detach*\n",
        "the respective computational graph\n",
        "from the final result.\n",
        "The following toy example makes this clearer:\n",
        "suppose we have `z = x * y` and `y = x * x`\n",
        "but we want to focus on the *direct* influence of `x` on `z`\n",
        "rather than the influence conveyed via `y`.\n",
        "In this case, we can create a new variable `u`\n",
        "that takes the same value as `y`\n",
        "but whose *provenance* (how it was created)\n",
        "has been wiped out.\n",
        "Thus `u` has no ancestors in the graph\n",
        "and gradients do not flow through `u` to `x`.\n",
        "For example, taking the gradient of `z = x * u`\n",
        "will yield the result `u`,\n",
        "(not `3 * x * x` as you might have\n",
        "expected since `z = x * x * x`).\n"
      ]
    },
    {
      "cell_type": "code",
      "execution_count": 11,
      "id": "107ac041",
      "metadata": {
        "attributes": {
          "classes": [],
          "id": "",
          "n": "21"
        },
        "execution": {
          "iopub.execute_input": "2023-08-18T19:26:10.196001Z",
          "iopub.status.busy": "2023-08-18T19:26:10.195456Z",
          "iopub.status.idle": "2023-08-18T19:26:10.203246Z",
          "shell.execute_reply": "2023-08-18T19:26:10.202155Z"
        },
        "id": "107ac041",
        "origin_pos": 50,
        "outputId": "12f8f8f5-3186-4401-99c7-7f8708ed4e58",
        "tab": [
          "pytorch"
        ]
      },
      "outputs": [
        {
          "data": {
            "text/plain": [
              "tensor([True, True, True, True])"
            ]
          },
          "execution_count": 11,
          "metadata": {},
          "output_type": "execute_result"
        }
      ],
      "source": [
        "x.grad.zero_()\n",
        "y = x * x\n",
        "u = y.detach() #consider u is a scalar\n",
        "z = u * x\n",
        "\n",
        "z.sum().backward()\n",
        "x.grad == u"
      ]
    },
    {
      "cell_type": "markdown",
      "id": "1696c1a2",
      "metadata": {},
      "source": [
        "# Detaching Computation (Tách rời tính toán khỏi computational graph)\n",
        "\n",
        "## Dịch nghĩa\n",
        "Đôi khi, ta muốn **di chuyển một số phép tính ra khỏi computational graph đã được ghi lại**.  \n",
        "Ví dụ, giả sử ta dùng input để tạo ra vài biến trung gian mà ta **không muốn tính gradient** cho chúng.  \n",
        "Trong trường hợp này, ta cần **detach** (tách rời) computational graph tương ứng ra khỏi kết quả cuối cùng.  \n",
        "\n",
        "Ví dụ:  \n",
        "- Giả sử ta có \\( z = x * y \\) và \\( y = x * x \\).  \n",
        "- Ta muốn tập trung vào **ảnh hưởng trực tiếp của \\(x\\) lên \\(z\\)** thay vì ảnh hưởng gián tiếp qua \\(y\\).  \n",
        "- Khi đó, ta có thể tạo biến mới \\(u\\) bằng `u = y.detach()`, nó giữ giá trị giống \\(y\\) nhưng **không còn liên kết trong computational graph** nữa.  \n",
        "- Do đó, \\(u\\) không còn “tổ tiên” trong graph và gradient **không chảy ngược** từ \\(u\\) về \\(x\\).  \n",
        "\n",
        "Ví dụ, khi tính gradient của \\( z = x * u \\), ta thu được kết quả là \\(u\\) (chứ không phải \\(3 * x * x\\) như bạn có thể nghĩ, nếu \\(z = x * x * x\\)).  \n",
        "\n",
        "---\n",
        "\n",
        "## Code minh họa\n",
        "```bash\n",
        "x.grad.zero_()   # reset gradient\n",
        "y = x * x        # y = x^2\n",
        "u = y.detach()   # tách rời y khỏi computational graph\n",
        "z = u * x        # z = u * x\n",
        "\n",
        "z.sum().backward()\n",
        "x.grad == u      # so sánh gradient với u\n"
      ]
    },
    {
      "attachments": {
        "image.png": {
          "image/png": "[encoded data removed]"
        }
      },
      "cell_type": "markdown",
      "id": "e0aac0ba",
      "metadata": {},
      "source": [
        "![image.png](attachment:image.png)\n",
        "\n",
        "\n",
        "\n",
        "detach() dùng để cắt một tensor ra khỏi computational graph, khiến nó không còn ảnh hưởng gradient ngược về biến gốc.\n",
        "\n",
        "Rất hữu ích khi bạn muốn:\n",
        "\n",
        "- Dùng giá trị trung gian nhưng không muốn tính gradient qua nó (ví dụ regularization, target,...).\n",
        "\n",
        "- Tránh việc tính toán gradient phức tạp không cần thiết."
      ]
    },
    {
      "cell_type": "markdown",
      "id": "e0378e1f",
      "metadata": {
        "id": "e0378e1f",
        "origin_pos": 53
      },
      "source": [
        "Note that while this procedure\n",
        "detaches `y`'s ancestors\n",
        "from the graph leading to `z`,\n",
        "the computational graph leading to `y`\n",
        "persists and thus we can calculate\n",
        "the gradient of `y` with respect to `x`.\n"
      ]
    },
    {
      "cell_type": "code",
      "execution_count": 12,
      "id": "cb8c674b",
      "metadata": {
        "execution": {
          "iopub.execute_input": "2023-08-18T19:26:10.206880Z",
          "iopub.status.busy": "2023-08-18T19:26:10.206001Z",
          "iopub.status.idle": "2023-08-18T19:26:10.213592Z",
          "shell.execute_reply": "2023-08-18T19:26:10.212476Z"
        },
        "id": "cb8c674b",
        "origin_pos": 55,
        "outputId": "923b10b7-6924-4980-ddce-5e6d2634f25c",
        "tab": [
          "pytorch"
        ]
      },
      "outputs": [
        {
          "data": {
            "text/plain": [
              "tensor([True, True, True, True])"
            ]
          },
          "execution_count": 12,
          "metadata": {},
          "output_type": "execute_result"
        }
      ],
      "source": [
        "x.grad.zero_()\n",
        "y.sum().backward()\n",
        "x.grad == 2 * x"
      ]
    },
    {
      "cell_type": "markdown",
      "id": "76f056ce",
      "metadata": {
        "id": "76f056ce",
        "origin_pos": 58
      },
      "source": [
        "## Gradients and Python Control Flow\n",
        "\n",
        "So far we reviewed cases where the path from input to output\n",
        "was well defined via a function such as `z = x * x * x`.\n",
        "Programming offers us a lot more freedom in how we compute results.\n",
        "For instance, we can make them depend on auxiliary variables\n",
        "or condition choices on intermediate results.\n",
        "One benefit of using automatic differentiation\n",
        "is that [**even if**] building the computational graph of\n",
        "(**a function required passing through a maze of Python control flow**)\n",
        "(e.g., conditionals, loops, and arbitrary function calls),\n",
        "(**we can still calculate the gradient of the resulting variable.**)\n",
        "To illustrate this, consider the following code snippet where\n",
        "the number of iterations of the `while` loop\n",
        "and the evaluation of the `if` statement\n",
        "both depend on the value of the input `a`.\n"
      ]
    },
    {
      "cell_type": "code",
      "execution_count": 13,
      "id": "a83327c2",
      "metadata": {
        "execution": {
          "iopub.execute_input": "2023-08-18T19:26:10.218214Z",
          "iopub.status.busy": "2023-08-18T19:26:10.217554Z",
          "iopub.status.idle": "2023-08-18T19:26:10.222956Z",
          "shell.execute_reply": "2023-08-18T19:26:10.221858Z"
        },
        "id": "a83327c2",
        "origin_pos": 60,
        "tab": [
          "pytorch"
        ]
      },
      "outputs": [],
      "source": [
        "def f(a):\n",
        "    b = a * 2\n",
        "    while b.norm() < 1000:\n",
        "        b = b * 2\n",
        "    if b.sum() > 0:\n",
        "        c = b\n",
        "    else:\n",
        "        c = 100 * b\n",
        "    return c"
      ]
    },
    {
      "cell_type": "markdown",
      "id": "189f6785",
      "metadata": {
        "id": "189f6785",
        "origin_pos": 63
      },
      "source": [
        "Below, we call this function, passing in a random value, as input.\n",
        "Since the input is a random variable,\n",
        "we do not know what form\n",
        "the computational graph will take.\n",
        "However, whenever we execute `f(a)`\n",
        "on a specific input, we realize\n",
        "a specific computational graph\n",
        "and can subsequently run `backward`.\n"
      ]
    },
    {
      "cell_type": "code",
      "execution_count": 14,
      "id": "c5ef0264",
      "metadata": {
        "execution": {
          "iopub.execute_input": "2023-08-18T19:26:10.227364Z",
          "iopub.status.busy": "2023-08-18T19:26:10.226919Z",
          "iopub.status.idle": "2023-08-18T19:26:10.232880Z",
          "shell.execute_reply": "2023-08-18T19:26:10.231773Z"
        },
        "id": "c5ef0264",
        "origin_pos": 65,
        "tab": [
          "pytorch"
        ]
      },
      "outputs": [],
      "source": [
        "a = torch.randn(size=(), requires_grad=True)\n",
        "d = f(a)\n",
        "d.backward()"
      ]
    },
    {
      "cell_type": "markdown",
      "id": "51065133",
      "metadata": {
        "id": "51065133",
        "origin_pos": 68
      },
      "source": [
        "Even though our function `f` is, for demonstration purposes, a bit contrived,\n",
        "its dependence on the input is quite simple:\n",
        "it is a *linear* function of `a`\n",
        "with piecewise defined scale.\n",
        "As such, `f(a) / a` is a vector of constant entries\n",
        "and, moreover, `f(a) / a` needs to match\n",
        "the gradient of `f(a)` with respect to `a`.\n"
      ]
    },
    {
      "cell_type": "code",
      "execution_count": 15,
      "id": "ab14ef91",
      "metadata": {
        "execution": {
          "iopub.execute_input": "2023-08-18T19:26:10.237298Z",
          "iopub.status.busy": "2023-08-18T19:26:10.236886Z",
          "iopub.status.idle": "2023-08-18T19:26:10.243577Z",
          "shell.execute_reply": "2023-08-18T19:26:10.242480Z"
        },
        "id": "ab14ef91",
        "origin_pos": 70,
        "outputId": "8d520424-b849-4a1f-d496-31e091ebd311",
        "tab": [
          "pytorch"
        ]
      },
      "outputs": [
        {
          "data": {
            "text/plain": [
              "tensor(True)"
            ]
          },
          "execution_count": 15,
          "metadata": {},
          "output_type": "execute_result"
        }
      ],
      "source": [
        "a.grad == d / a"
      ]
    },
    {
      "attachments": {
        "image.png": {
          "image/png": "[encoded data removed]"
        }
      },
      "cell_type": "markdown",
      "id": "893f15c7",
      "metadata": {},
      "source": [
        "![image.png](attachment:image.png)"
      ]
    },
    {
      "cell_type": "markdown",
      "id": "a992f28c",
      "metadata": {
        "id": "a992f28c",
        "origin_pos": 73
      },
      "source": [
        "Dynamic control flow is very common in deep learning.\n",
        "For instance, when processing text, the computational graph\n",
        "depends on the length of the input.\n",
        "In these cases, automatic differentiation\n",
        "becomes vital for statistical modeling\n",
        "since it is impossible to compute the gradient *a priori*.\n",
        "\n",
        "## Discussion\n",
        "\n",
        "You have now gotten a taste of the power of automatic differentiation.\n",
        "The development of libraries for calculating derivatives\n",
        "both automatically and efficiently\n",
        "has been a massive productivity booster\n",
        "for deep learning practitioners,\n",
        "liberating them so they can focus on less menial.\n",
        "Moreover, autograd lets us design massive models\n",
        "for which pen and paper gradient computations\n",
        "would be prohibitively time consuming.\n",
        "Interestingly, while we use autograd to *optimize* models\n",
        "(in a statistical sense)\n",
        "the *optimization* of autograd libraries themselves\n",
        "(in a computational sense)\n",
        "is a rich subject\n",
        "of vital interest to framework designers.\n",
        "Here, tools from compilers and graph manipulation\n",
        "are leveraged to compute results\n",
        "in the most expedient and memory-efficient manner.\n",
        "\n",
        "For now, try to remember these basics: (i) attach gradients to those variables with respect to which we desire derivatives; (ii) record the computation of the target value; (iii) execute the backpropagation function; and  (iv) access the resulting gradient.\n",
        "\n",
        "\n",
        "## Exercises\n",
        "\n",
        "1. Why is the second derivative much more expensive to compute than the first derivative?\n",
        "1. After running the function for backpropagation, immediately run it again and see what happens. Investigate.\n",
        "1. In the control flow example where we calculate the derivative of `d` with respect to `a`, what would happen if we changed the variable `a` to a random vector or a matrix? At this point, the result of the calculation `f(a)` is no longer a scalar. What happens to the result? How do we analyze this?\n",
        "1. Let $f(x) = \\sin(x)$. Plot the graph of $f$ and of its derivative $f'$. Do not exploit the fact that $f'(x) = \\cos(x)$ but rather use automatic differentiation to get the result.\n",
        "1. Let $f(x) = ((\\log x^2) \\cdot \\sin x) + x^{-1}$. Write out a dependency graph tracing results from $x$ to $f(x)$.\n",
        "1. Use the chain rule to compute the derivative $\\frac{df}{dx}$ of the aforementioned function, placing each term on the dependency graph that you constructed previously.\n",
        "1. Given the graph and the intermediate derivative results, you have a number of options when computing the gradient. Evaluate the result once starting from $x$ to $f$ and once from $f$ tracing back to $x$. The path from $x$ to $f$ is commonly known as *forward differentiation*, whereas the path from $f$ to $x$ is known as backward differentiation.\n",
        "1. When might you want to use forward, and when backward, differentiation? Hint: consider the amount of intermediate data needed, the ability to parallelize steps, and the size of matrices and vectors involved.\n"
      ]
    },
    {
      "cell_type": "markdown",
      "id": "4c0ab97d",
      "metadata": {
        "id": "4c0ab97d",
        "origin_pos": 75,
        "tab": [
          "pytorch"
        ]
      },
      "source": [
        "[Discussions](https://discuss.d2l.ai/t/35)\n"
      ]
    },
    {
      "cell_type": "markdown",
      "id": "73822c78",
      "metadata": {},
      "source": [
        "1. ...\n",
        "2. "
      ]
    },
    {
      "cell_type": "code",
      "execution_count": 17,
      "id": "8fa3fdcb",
      "metadata": {},
      "outputs": [],
      "source": [
        "x = torch.arange(4.0, requires_grad=True)\n",
        "y = torch.dot(x, x)\n"
      ]
    },
    {
      "cell_type": "code",
      "execution_count": 18,
      "id": "0e66c888",
      "metadata": {},
      "outputs": [],
      "source": [
        "y.backward()"
      ]
    },
    {
      "cell_type": "code",
      "execution_count": 19,
      "id": "4b83407e",
      "metadata": {},
      "outputs": [
        {
          "ename": "RuntimeError",
          "evalue": "Trying to backward through the graph a second time (or directly access saved tensors after they have already been freed). Saved intermediate values of the graph are freed when you call .backward() or autograd.grad(). Specify retain_graph=True if you need to backward through the graph a second time or if you need to access saved tensors after calling backward.",
          "output_type": "error",
          "traceback": [
            "\u001b[0;31m---------------------------------------------------------------------------\u001b[0m",
            "\u001b[0;31mRuntimeError\u001b[0m                              Traceback (most recent call last)",
            "Cell \u001b[0;32mIn[19], line 1\u001b[0m\n\u001b[0;32m----> 1\u001b[0m \u001b[43my\u001b[49m\u001b[38;5;241;43m.\u001b[39;49m\u001b[43mbackward\u001b[49m\u001b[43m(\u001b[49m\u001b[43m)\u001b[49m\n",
            "File \u001b[0;32m~/miniconda3/envs/torch/lib/python3.10/site-packages/torch/_tensor.py:581\u001b[0m, in \u001b[0;36mTensor.backward\u001b[0;34m(self, gradient, retain_graph, create_graph, inputs)\u001b[0m\n\u001b[1;32m    571\u001b[0m \u001b[38;5;28;01mif\u001b[39;00m has_torch_function_unary(\u001b[38;5;28mself\u001b[39m):\n\u001b[1;32m    572\u001b[0m     \u001b[38;5;28;01mreturn\u001b[39;00m handle_torch_function(\n\u001b[1;32m    573\u001b[0m         Tensor\u001b[38;5;241m.\u001b[39mbackward,\n\u001b[1;32m    574\u001b[0m         (\u001b[38;5;28mself\u001b[39m,),\n\u001b[0;32m   (...)\u001b[0m\n\u001b[1;32m    579\u001b[0m         inputs\u001b[38;5;241m=\u001b[39minputs,\n\u001b[1;32m    580\u001b[0m     )\n\u001b[0;32m--> 581\u001b[0m \u001b[43mtorch\u001b[49m\u001b[38;5;241;43m.\u001b[39;49m\u001b[43mautograd\u001b[49m\u001b[38;5;241;43m.\u001b[39;49m\u001b[43mbackward\u001b[49m\u001b[43m(\u001b[49m\n\u001b[1;32m    582\u001b[0m \u001b[43m    \u001b[49m\u001b[38;5;28;43mself\u001b[39;49m\u001b[43m,\u001b[49m\u001b[43m \u001b[49m\u001b[43mgradient\u001b[49m\u001b[43m,\u001b[49m\u001b[43m \u001b[49m\u001b[43mretain_graph\u001b[49m\u001b[43m,\u001b[49m\u001b[43m \u001b[49m\u001b[43mcreate_graph\u001b[49m\u001b[43m,\u001b[49m\u001b[43m \u001b[49m\u001b[43minputs\u001b[49m\u001b[38;5;241;43m=\u001b[39;49m\u001b[43minputs\u001b[49m\n\u001b[1;32m    583\u001b[0m \u001b[43m\u001b[49m\u001b[43m)\u001b[49m\n",
            "File \u001b[0;32m~/miniconda3/envs/torch/lib/python3.10/site-packages/torch/autograd/__init__.py:347\u001b[0m, in \u001b[0;36mbackward\u001b[0;34m(tensors, grad_tensors, retain_graph, create_graph, grad_variables, inputs)\u001b[0m\n\u001b[1;32m    342\u001b[0m     retain_graph \u001b[38;5;241m=\u001b[39m create_graph\n\u001b[1;32m    344\u001b[0m \u001b[38;5;66;03m# The reason we repeat the same comment below is that\u001b[39;00m\n\u001b[1;32m    345\u001b[0m \u001b[38;5;66;03m# some Python versions print out the first line of a multi-line function\u001b[39;00m\n\u001b[1;32m    346\u001b[0m \u001b[38;5;66;03m# calls in the traceback and some print out the last line\u001b[39;00m\n\u001b[0;32m--> 347\u001b[0m \u001b[43m_engine_run_backward\u001b[49m\u001b[43m(\u001b[49m\n\u001b[1;32m    348\u001b[0m \u001b[43m    \u001b[49m\u001b[43mtensors\u001b[49m\u001b[43m,\u001b[49m\n\u001b[1;32m    349\u001b[0m \u001b[43m    \u001b[49m\u001b[43mgrad_tensors_\u001b[49m\u001b[43m,\u001b[49m\n\u001b[1;32m    350\u001b[0m \u001b[43m    \u001b[49m\u001b[43mretain_graph\u001b[49m\u001b[43m,\u001b[49m\n\u001b[1;32m    351\u001b[0m \u001b[43m    \u001b[49m\u001b[43mcreate_graph\u001b[49m\u001b[43m,\u001b[49m\n\u001b[1;32m    352\u001b[0m \u001b[43m    \u001b[49m\u001b[43minputs\u001b[49m\u001b[43m,\u001b[49m\n\u001b[1;32m    353\u001b[0m \u001b[43m    \u001b[49m\u001b[43mallow_unreachable\u001b[49m\u001b[38;5;241;43m=\u001b[39;49m\u001b[38;5;28;43;01mTrue\u001b[39;49;00m\u001b[43m,\u001b[49m\n\u001b[1;32m    354\u001b[0m \u001b[43m    \u001b[49m\u001b[43maccumulate_grad\u001b[49m\u001b[38;5;241;43m=\u001b[39;49m\u001b[38;5;28;43;01mTrue\u001b[39;49;00m\u001b[43m,\u001b[49m\n\u001b[1;32m    355\u001b[0m \u001b[43m\u001b[49m\u001b[43m)\u001b[49m\n",
            "File \u001b[0;32m~/miniconda3/envs/torch/lib/python3.10/site-packages/torch/autograd/graph.py:825\u001b[0m, in \u001b[0;36m_engine_run_backward\u001b[0;34m(t_outputs, *args, **kwargs)\u001b[0m\n\u001b[1;32m    823\u001b[0m     unregister_hooks \u001b[38;5;241m=\u001b[39m _register_logging_hooks_on_whole_graph(t_outputs)\n\u001b[1;32m    824\u001b[0m \u001b[38;5;28;01mtry\u001b[39;00m:\n\u001b[0;32m--> 825\u001b[0m     \u001b[38;5;28;01mreturn\u001b[39;00m \u001b[43mVariable\u001b[49m\u001b[38;5;241;43m.\u001b[39;49m\u001b[43m_execution_engine\u001b[49m\u001b[38;5;241;43m.\u001b[39;49m\u001b[43mrun_backward\u001b[49m\u001b[43m(\u001b[49m\u001b[43m  \u001b[49m\u001b[38;5;66;43;03m# Calls into the C++ engine to run the backward pass\u001b[39;49;00m\n\u001b[1;32m    826\u001b[0m \u001b[43m        \u001b[49m\u001b[43mt_outputs\u001b[49m\u001b[43m,\u001b[49m\u001b[43m \u001b[49m\u001b[38;5;241;43m*\u001b[39;49m\u001b[43margs\u001b[49m\u001b[43m,\u001b[49m\u001b[43m \u001b[49m\u001b[38;5;241;43m*\u001b[39;49m\u001b[38;5;241;43m*\u001b[39;49m\u001b[43mkwargs\u001b[49m\n\u001b[1;32m    827\u001b[0m \u001b[43m    \u001b[49m\u001b[43m)\u001b[49m  \u001b[38;5;66;03m# Calls into the C++ engine to run the backward pass\u001b[39;00m\n\u001b[1;32m    828\u001b[0m \u001b[38;5;28;01mfinally\u001b[39;00m:\n\u001b[1;32m    829\u001b[0m     \u001b[38;5;28;01mif\u001b[39;00m attach_logging_hooks:\n",
            "\u001b[0;31mRuntimeError\u001b[0m: Trying to backward through the graph a second time (or directly access saved tensors after they have already been freed). Saved intermediate values of the graph are freed when you call .backward() or autograd.grad(). Specify retain_graph=True if you need to backward through the graph a second time or if you need to access saved tensors after calling backward."
          ]
        }
      ],
      "source": [
        "y.backward()"
      ]
    },
    {
      "cell_type": "markdown",
      "id": "4553cb11",
      "metadata": {},
      "source": [
        "2. It threw an error"
      ]
    },
    {
      "cell_type": "markdown",
      "id": "658369a0",
      "metadata": {},
      "source": [
        "4. okay"
      ]
    },
    {
      "cell_type": "code",
      "execution_count": 20,
      "id": "bace4d1d",
      "metadata": {},
      "outputs": [],
      "source": [
        "import math"
      ]
    },
    {
      "cell_type": "code",
      "execution_count": 23,
      "id": "7f208e09",
      "metadata": {},
      "outputs": [],
      "source": [
        "x = torch.tensor(math.pi, requires_grad=True)\n",
        "y = torch.sin(x)\n",
        "y.backward()"
      ]
    },
    {
      "cell_type": "code",
      "execution_count": 24,
      "id": "9bd64d87",
      "metadata": {},
      "outputs": [
        {
          "data": {
            "text/plain": [
              "tensor(-1.)"
            ]
          },
          "execution_count": 24,
          "metadata": {},
          "output_type": "execute_result"
        }
      ],
      "source": [
        "x.grad"
      ]
    },
    {
      "cell_type": "code",
      "execution_count": null,
      "id": "0bcc0eba",
      "metadata": {},
      "outputs": [],
      "source": []
    }
  ],
  "metadata": {
    "colab": {
      "provenance": []
    },
    "kernelspec": {
      "display_name": "torch",
      "language": "python",
      "name": "python3"
    },
    "language_info": {
      "codemirror_mode": {
        "name": "ipython",
        "version": 3
      },
      "file_extension": ".py",
      "mimetype": "text/x-python",
      "name": "python",
      "nbconvert_exporter": "python",
      "pygments_lexer": "ipython3",
      "version": "3.10.18"
    },
    "required_libs": []
  },
  "nbformat": 4,
  "nbformat_minor": 5
}
